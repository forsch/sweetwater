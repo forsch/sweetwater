{
 "cells": [
  {
   "cell_type": "markdown",
   "metadata": {},
   "source": [
    "# python notes"
   ]
  },
  {
   "cell_type": "markdown",
   "metadata": {},
   "source": [
    "### python中读取文件常用的三种方法\n",
    "\n",
    "#### 1. read([size])方法 \n",
    "    read([size])方法从文件当前位置起读取size个字节，若无参数 size ，则表示读取至文件结束为止；范围为字符串对象\n",
    "        \n",
    "#### 2. readline()方法 \n",
    "    每次读取一行内容，读取时占用内存小，适合大文件，该方法返回一个字符串对象\n",
    "\n",
    "#### 3.  readlines()方法 \n",
    "    读取整个文件所有行，保存在一个列表(list)变量中，每行作为一个元素；读取大文件会比较占内存\n",
    "\n",
    "#### 4. linecache模块 \n",
    "    适用于特殊需求：如输出某个文件的第n行"
   ]
  },
  {
   "cell_type": "code",
   "execution_count": null,
   "metadata": {},
   "outputs": [],
   "source": []
  }
 ],
 "metadata": {
  "kernelspec": {
   "display_name": "Python 3",
   "language": "python",
   "name": "python3"
  },
  "language_info": {
   "codemirror_mode": {
    "name": "ipython",
    "version": 3
   },
   "file_extension": ".py",
   "mimetype": "text/x-python",
   "name": "python",
   "nbconvert_exporter": "python",
   "pygments_lexer": "ipython3",
   "version": "3.6.5"
  }
 },
 "nbformat": 4,
 "nbformat_minor": 2
}
